{
 "cells": [
  {
   "cell_type": "code",
   "execution_count": null,
   "metadata": {
    "collapsed": true
   },
   "outputs": [],
   "source": [
    "import numpy as np\n",
    "cov = [[1, 0],[1,0]]\n",
    "x = np.random.multivariate_normal([0,0], cov, 5000)\n",
    "print(x.shape)"
   ]
  },
  {
   "cell_type": "code",
   "execution_count": null,
   "outputs": [],
   "source": [
    "import numpy as np\n",
    "import matplotlib.pyplot as plt\n",
    "%matplotlib inline\n",
    "\n",
    "np.random.seed(12)\n",
    "num_observerations = 5000\n",
    "x1 = np.random.multivariate_normal([0,0],[[1, .75],[.75, 1]], num_observerations)\n",
    "x2 = np.random.multivariate_normal([1,4],[[1, .75],[.75, 1]], num_observerations)\n",
    "\n",
    "X = np.vstack((x1,x2)).astype(np.float32)\n",
    "y = np.hstack((np.zeros(num_observerations),np.ones(num_observerations)))\n",
    "print(X.shape, y.shape)"
   ],
   "metadata": {
    "collapsed": false,
    "pycharm": {
     "name": "#%%\n"
    }
   }
  },
  {
   "cell_type": "code",
   "execution_count": null,
   "outputs": [],
   "source": [
    "\n",
    "plt.figure(figsize=(12,8))\n",
    "plt.scatter(X[:,0],X[:,1],c=y,alpha=4)\n",
    "\n"
   ],
   "metadata": {
    "collapsed": false,
    "pycharm": {
     "name": "#%%\n"
    }
   }
  },
  {
   "cell_type": "code",
   "execution_count": null,
   "outputs": [],
   "source": [
    "#sigmode 函数\n",
    "def sigmod(x):\n",
    "    return 1/(1+np.exp(-x))\n",
    "\n",
    "# log likelihood\n",
    "def log_likelihood(X,y,w,b):\n",
    "    \"\"\"\n",
    "    针对所有样本数据进行。计算（负的）log likelihood， 也叫cross-entropy loss\n",
    "    这个值越小越好，\n",
    "    X训练数据(特征向量) 大小为N*D\n",
    "    y训练数据（标签）一维向量，长度为D\n",
    "    w:模型参数，一维向量，长度为D\n",
    "    b:模型的偏移量，标量\n",
    "    \"\"\"\n",
    "    pos, neg = np.where(y==1),np.where(y==0)\n",
    "    pos_sum =np.sum(np.log(sigmod(np.dot(X[pos],w)+b)))\n",
    "    neg_sum = np.sum(np.log(1-sigmod(np.dot(X[neg],w)+b)))\n",
    "\n",
    "    return -(pos_sum+neg_sum)\n"
   ],
   "metadata": {
    "collapsed": false,
    "pycharm": {
     "name": "#%%\n"
    }
   }
  },
  {
   "cell_type": "code",
   "execution_count": null,
   "outputs": [],
   "source": [
    "def logistic_regression(X,y,num_steps,learning_rate):\n",
    "    \"\"\"\n",
    "    基于梯度下降法，实现逻辑回归\n",
    "    X训练数据(特征向量) 大小为N*D\n",
    "    y训练数据（标签）一维向量，长度为D\n",
    "    num_steps迭代次数\n",
    "    learning_rate 步长\n",
    "    \"\"\"\n",
    "    w,b = np.zeros(X.shape[1]),0\n",
    "    for step in range(num_steps):\n",
    "        error =sigmod(np.dot(X,w)+b)-y\n",
    "\n",
    "        grad_w = np.matmul(X.T,error)\n",
    "        grad_b = np.sum(error)\n",
    "\n",
    "        w = w -learning_rate*grad_w\n",
    "        b = b -learning_rate*grad_b\n",
    "\n",
    "        if step %10000 ==0:\n",
    "            print(log_likelihood(X,y,w,b))\n",
    "    return w,b\n"
   ],
   "metadata": {
    "collapsed": false,
    "pycharm": {
     "name": "#%%\n"
    }
   }
  },
  {
   "cell_type": "code",
   "execution_count": null,
   "outputs": [],
   "source": [
    "w,b = logistic_regression(X, y, num_steps=100000,learning_rate=5e-5)\n",
    "print(w,b)"
   ],
   "metadata": {
    "collapsed": false,
    "pycharm": {
     "name": "#%%\n"
    }
   }
  },
  {
   "cell_type": "code",
   "execution_count": null,
   "outputs": [],
   "source": [
    "from sklearn.linear_model import LogisticRegression\n",
    "\n",
    "clf = LogisticRegression(fit_intercept=True, C=1e15)\n",
    "clf.fit(X,y)\n",
    "print(\"w,b\",clf.coef_, clf.intercept_)\n"
   ],
   "metadata": {
    "collapsed": false,
    "pycharm": {
     "name": "#%%\n"
    }
   }
  }
 ],
 "metadata": {
  "kernelspec": {
   "display_name": "Python 3",
   "language": "python",
   "name": "python3"
  },
  "language_info": {
   "codemirror_mode": {
    "name": "ipython",
    "version": 2
   },
   "file_extension": ".py",
   "mimetype": "text/x-python",
   "name": "python",
   "nbconvert_exporter": "python",
   "pygments_lexer": "ipython2",
   "version": "2.7.6"
  }
 },
 "nbformat": 4,
 "nbformat_minor": 0
}