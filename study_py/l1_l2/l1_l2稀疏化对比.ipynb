{
 "cells": [
  {
   "cell_type": "code",
   "execution_count": 3,
   "metadata": {},
   "outputs": [],
   "source": [
    "import numpy as np\n",
    "\n",
    "np.random.seed(12)\n",
    "num_obersivations = 100\n",
    "rand_m = np.random.rand(20,20)\n",
    "cov = np.matmul(rand_m.T,rand_m)\n",
    "x1 = np.random.multivariate_normal(np.random.rand(20), cov, num_obersivations)\n",
    "x2 = np.random.multivariate_normal(np.random.rand(20)+5, cov, num_obersivations)\n",
    "X = np.vstack((x1, x2)).astype(np.float32)\n",
    "y = np.hstack((np.zeros(num_obersivations),np.ones(num_obersivations)))\n"
   ]
  },
  {
   "cell_type": "code",
   "execution_count": 4,
   "metadata": {},
   "outputs": [
    {
     "name": "stdout",
     "output_type": "stream",
     "text": [
      "(L1)逻辑回归的参数w为： [[ 0.          0.          0.00424842  0.          0.07096305 -0.29531785\n",
      "   0.         -0.3403994   0.          0.78414305  0.          0.10093459\n",
      "   0.          0.          0.         -0.04089472  0.          0.\n",
      "   0.41568396  0.        ]]\n"
     ]
    }
   ],
   "source": [
    "from sklearn.linear_model import LogisticRegression\n",
    "clf = LogisticRegression(fit_intercept=True, C=0.1, penalty='l1', solver='liblinear')\n",
    "clf.fit(X,y)\n",
    "print(\"(L1)逻辑回归的参数w为：\",clf.coef_)"
   ]
  },
  {
   "cell_type": "code",
   "execution_count": 5,
   "metadata": {},
   "outputs": [
    {
     "name": "stdout",
     "output_type": "stream",
     "text": [
      "(L2)逻辑回归的参数w为： [[-0.06020774 -0.08587293  0.06269959  0.0218838   0.36622515 -0.45899841\n",
      "   0.11456309 -0.44218794 -0.24780618  0.87767764 -0.32403048  0.27800343\n",
      "   0.34313572  0.16393398 -0.14322159 -0.22759078  0.09331433 -0.22950935\n",
      "   0.48553032  0.1213868 ]]\n"
     ]
    }
   ],
   "source": [
    "clf = LogisticRegression(fit_intercept=True, C=0.1, penalty='l2', solver='liblinear')\n",
    "clf.fit(X,y)\n",
    "print(\"(L2)逻辑回归的参数w为：\",clf.coef_)"
   ]
  },
  {
   "cell_type": "code",
   "execution_count": null,
   "metadata": {},
   "outputs": [],
   "source": []
  }
 ],
 "metadata": {
  "kernelspec": {
   "display_name": "Python 3",
   "language": "python",
   "name": "python3"
  },
  "language_info": {
   "codemirror_mode": {
    "name": "ipython",
    "version": 3
   },
   "file_extension": ".py",
   "mimetype": "text/x-python",
   "name": "python",
   "nbconvert_exporter": "python",
   "pygments_lexer": "ipython3",
   "version": "3.7.6"
  }
 },
 "nbformat": 4,
 "nbformat_minor": 4
}
